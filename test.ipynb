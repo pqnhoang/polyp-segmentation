{
 "cells": [
  {
   "cell_type": "code",
   "execution_count": null,
   "metadata": {},
   "outputs": [],
   "source": [
    "# DATALOADER\n",
    "import random\n",
    "from data.dataset import NeoPolypDataset\n",
    "from torch.utils.data import *\n",
    "import os\n",
    "\n",
    "data_path = \"/Users/pqnhhh/Desktop/BKAI IGH NeoPolyp\"\n",
    "batch_size = 16\n",
    "num_workers = 4\n",
    "split_ratio = 0.96\n",
    "all_path = []\n",
    "for root, dirs, files in os.walk(os.path.join(data_path, \"train\")):\n",
    "    for f in files:\n",
    "        all_path.append(os.path.join(root, f))\n",
    "all_gt_path = []\n",
    "for root, dirs, files in os.walk(os.path.join(data_path, \"train_gt\")):\n",
    "    for f in files:\n",
    "        all_gt_path.append(os.path.join(root, f))\n",
    "\n",
    "shuffle_list = list(zip(all_path, all_gt_path))\n",
    "random.shuffle(shuffle_list)\n",
    "all_path, all_gt_path = zip(*shuffle_list)\n",
    "\n",
    "train_size = int(split_ratio * len(all_path))\n",
    "train_path = all_path[:train_size]\n",
    "train_gt_path = all_gt_path[:train_size]\n",
    "val_path = all_path[train_size:]\n",
    "val_gt_path = all_gt_path[train_size:]\n",
    "train_dataset = NeoPolypDataset(train_path, train_gt_path, session=\"train\")\n",
    "val_dataset = NeoPolypDataset(val_path, val_gt_path, session=\"val\")\n",
    "\n",
    "train_loader = DataLoader(\n",
    "    dataset=train_dataset,\n",
    "    batch_size=batch_size,\n",
    "    num_workers=num_workers,\n",
    "    shuffle=True\n",
    ")\n",
    "\n",
    "val_loader = DataLoader(\n",
    "    dataset=val_dataset,\n",
    "    batch_size=batch_size,\n",
    "    num_workers=num_workers,\n",
    "    shuffle=False\n",
    ")"
   ]
  }
 ],
 "metadata": {
  "kernelspec": {
   "display_name": "Python 3",
   "language": "python",
   "name": "python3"
  },
  "language_info": {
   "name": "python",
   "version": "3.10.11"
  }
 },
 "nbformat": 4,
 "nbformat_minor": 2
}
